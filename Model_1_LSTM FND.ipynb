{
 "cells": [
  {
   "cell_type": "code",
   "execution_count": 10,
   "metadata": {
    "id": "i6Syh4d575ex"
   },
   "outputs": [
    {
     "name": "stderr",
     "output_type": "stream",
     "text": [
      "[nltk_data] Downloading package punkt to C:\\Users\\Aditya\n",
      "[nltk_data]     Sarwate\\AppData\\Roaming\\nltk_data...\n",
      "[nltk_data]   Package punkt is already up-to-date!\n"
     ]
    },
    {
     "name": "stdout",
     "output_type": "stream",
     "text": [
      "Requirement already satisfied: keras_preprocessing in c:\\users\\aditya sarwate\\appdata\\local\\programs\\python\\python310\\lib\\site-packages (1.1.2)\n",
      "Requirement already satisfied: numpy>=1.9.1 in c:\\users\\aditya sarwate\\appdata\\local\\programs\\python\\python310\\lib\\site-packages (from keras_preprocessing) (1.23.5)\n",
      "Requirement already satisfied: six>=1.9.0 in c:\\users\\aditya sarwate\\appdata\\local\\programs\\python\\python310\\lib\\site-packages (from keras_preprocessing) (1.16.0)\n"
     ]
    },
    {
     "name": "stderr",
     "output_type": "stream",
     "text": [
      "\n",
      "[notice] A new release of pip is available: 23.0.1 -> 23.1.1\n",
      "[notice] To update, run: python.exe -m pip install --upgrade pip\n"
     ]
    }
   ],
   "source": [
    "import numpy as np\n",
    "import pandas as pd\n",
    "\n",
    "import matplotlib.pyplot as plt\n",
    "import keras\n",
    "from collections import Counter\n",
    "from os import path\n",
    "from PIL import Image\n",
    "from wordcloud import WordCloud, STOPWORDS, ImageColorGenerator\n",
    "import re\n",
    "from textblob import TextBlob\n",
    "import cufflinks as cf\n",
    "import nltk\n",
    "nltk.download('punkt')\n",
    "!pip install keras_preprocessing\n",
    "from keras_preprocessing.sequence import pad_sequences\n",
    "from nltk.tokenize import word_tokenize\n",
    "from keras_preprocessing.text import Tokenizer\n",
    "from tensorflow.keras.utils import to_categorical\n",
    "from keras import Input\n",
    "from keras.models import Model\n",
    "from keras.layers import Embedding, LSTM, concatenate, Dense\n",
    "\n",
    "\n",
    "# ignoring the warnings\n",
    "import warnings\n",
    "warnings.filterwarnings(\"ignore\")\n",
    "\n",
    "def load_model():\n",
    "    # Reading the train data\n",
    "    train_data = pd.read_csv(\"train.csv\")\n",
    "\n",
    "    # Shape of dataset\n",
    "    # print(\"\\n Shape of the Train DataSet\")\n",
    "    # print(train_data.head())\n",
    "    # print(train_data.shape)\n",
    "    # print(\"\\n Label\", Counter(train_data['label']))\n",
    "\n",
    "    print(\"\\nNull Values\", train_data.isnull().sum())\n",
    "\n",
    "    train_data = train_data.dropna()\n",
    "\n",
    "    print(\"\\nAfter dropping null values\")\n",
    "    print(train_data.isnull().sum())\n",
    "\n",
    "    # incase of any null data it resets its index\n",
    "    train_data = train_data.copy()\n",
    "    train_data.reset_index(inplace=True)\n",
    "\n",
    "\n",
    "\n",
    "    # #wordcloud generator\n",
    "\n",
    "    # lisst = train_data['title1_en'].tolist()\n",
    "    # listToStr = ' '.join(map(str, lisst))\n",
    "    # listToStr = listToStr.replace('\"', '')\n",
    "    # text = listToStr\n",
    "\n",
    "    # # Create and generate a word cloud image:\n",
    "    # wordcloud = WordCloud().generate(text)\n",
    "    # wordcloud = WordCloud(max_font_size=50, max_words=100, background_color=\"white\").generate(text)\n",
    "    # plt.figure()\n",
    "    # plt.imshow(wordcloud, interpolation=\"bilinear\")\n",
    "    # plt.axis(\"off\")\n",
    "    # plt.show()\n",
    "\n",
    "    # lisst = train_data['title2_en'].tolist()\n",
    "    # listToStr = ' '.join(map(str, lisst))\n",
    "    # listToStr = listToStr.replace('\"', '')\n",
    "\n",
    "    # text = listToStr\n",
    "\n",
    "    # # Create and generate a word cloud image:\n",
    "    # wordcloud = WordCloud().generate(text)\n",
    "    # wordcloud = WordCloud(max_font_size=50, max_words=100, background_color=\"white\").generate(text)\n",
    "    # plt.figure()\n",
    "    # plt.imshow(wordcloud, interpolation=\"bilinear\")\n",
    "    # plt.axis(\"off\")\n",
    "    # plt.show()\n",
    "\n",
    "    #polarity\n",
    "\n",
    "    cf.go_offline()\n",
    "    cf.set_config_file(offline=False, world_readable=True)\n",
    "\n",
    "\n",
    "    train_data['polarity2'] = train_data['title2_en'].map(lambda text: TextBlob(text).sentiment.polarity)\n",
    "    print(train_data['polarity2'])\n",
    "\n",
    "    train_data['polarity1'] = train_data['title1_en'].map(lambda text: TextBlob(text).sentiment.polarity)\n",
    "    print(train_data['polarity1'])\n",
    "\n",
    "    #text based on labels\n",
    "    train_data['title1_en'].str.len().hist(by=train_data['label'])\n",
    "    train_data['title2_en'].str.len().hist(by=train_data['label'])\n",
    "\n",
    "    MAX_NUM_WORDS = 2000\n",
    "    MAX_SEQUENCE_LENGTH = 150\n",
    "\n",
    "    def do_tokenization(sentence):\n",
    "        word_tokens = word_tokenize(sentence)\n",
    "        tokenized_words = [word_token for word_token in word_tokens if word_token.isalpha()] \n",
    "        return tokenized_words\n",
    "\n",
    "\n",
    "    train_data['title2_en_tokenized'] = train_data.loc[:,'title2_en'].apply(do_tokenization)\n",
    "    train_data['title1_en_tokenized'] = train_data.loc[:,'title1_en'].apply(do_tokenization)\n",
    "\n",
    "\n",
    "    tokenizer = Tokenizer(num_words = MAX_NUM_WORDS)\n",
    "    corpus = pd.concat([train_data['title1_en_tokenized'], train_data['title2_en_tokenized']])\n",
    "    tokenizer.fit_on_texts(corpus)\n",
    "\n",
    "    title1 = tokenizer.texts_to_sequences(train_data['title1_en_tokenized'])\n",
    "    x1_train = pad_sequences(title1,maxlen=MAX_SEQUENCE_LENGTH)\n",
    "\n",
    "    title2 = tokenizer.texts_to_sequences(train_data['title2_en_tokenized'])\n",
    "    x2_train = pad_sequences(title2,maxlen=MAX_SEQUENCE_LENGTH)\n",
    "\n",
    "    label_to_index = {'unrelated' : 0, 'agreed' : 1, 'disagreed' : 2}\n",
    "\n",
    "    y_train = train_data.label.apply(lambda lab : label_to_index[lab])\n",
    "    y_train = np.asarray(y_train).astype('float32')\n",
    "\n",
    "    # y_train [:10]\n",
    "\n",
    "\n",
    "    y_train = keras.utils.np_utils.to_categorical(y_train)\n",
    "    # y_train[:15]\n",
    "\n",
    "    #Training and Validation Split\n",
    "    from sklearn.model_selection import train_test_split \n",
    "    x1_train, x1_test, x2_train, x2_test, y_train, y_test = train_test_split(x1_train, x2_train, y_train , test_size = 0.1 , random_state = 9527)\n",
    "\n",
    "    NUM_LSTM_UNITS = 128\n",
    "    NUM_EMBEDDING_DIM = 128\n",
    "\n",
    "\n",
    "    topInput = Input(shape=(MAX_SEQUENCE_LENGTH, ), dtype='int32')\n",
    "    bmInput  = Input(shape=(MAX_SEQUENCE_LENGTH, ), dtype='int32')\n",
    "\n",
    "    embedding_layer = Embedding(MAX_NUM_WORDS, NUM_EMBEDDING_DIM)\n",
    "    topEmbedded = embedding_layer(topInput)\n",
    "    bmEmbedded = embedding_layer(bmInput)\n",
    "\n",
    "    lstmLayer = LSTM(NUM_LSTM_UNITS)\n",
    "    topOutput = lstmLayer(topEmbedded)\n",
    "    bmOutput = lstmLayer(bmEmbedded)\n",
    "\n",
    "    concatenated_layer = concatenate([topOutput, bmOutput], axis=-1)\n",
    "\n",
    "    dense =  Dense(units=3, activation='softmax')\n",
    "    predictions_data = dense(concatenated_layer)\n",
    "\n",
    "    model = Model(inputs=[topInput, bmInput], outputs=predictions_data)\n",
    "    \n",
    "    return model,x1_train, x1_test, x2_train, x2_test, y_train, y_test"
   ]
  },
  {
   "cell_type": "code",
   "execution_count": 11,
   "metadata": {
    "id": "5gNFXzZ5AA9V"
   },
   "outputs": [
    {
     "name": "stdout",
     "output_type": "stream",
     "text": [
      "\n",
      "Null Values id           0\n",
      "tid1         0\n",
      "tid2         0\n",
      "title1_en    0\n",
      "title2_en    0\n",
      "label        0\n",
      "dtype: int64\n",
      "\n",
      "After dropping null values\n",
      "id           0\n",
      "tid1         0\n",
      "tid2         0\n",
      "title1_en    0\n",
      "title2_en    0\n",
      "label        0\n",
      "dtype: int64\n"
     ]
    },
    {
     "data": {
      "text/html": [
       "        <script type=\"text/javascript\">\n",
       "        window.PlotlyConfig = {MathJaxConfig: 'local'};\n",
       "        if (window.MathJax && window.MathJax.Hub && window.MathJax.Hub.Config) {window.MathJax.Hub.Config({SVG: {font: \"STIX-Web\"}});}\n",
       "        if (typeof require !== 'undefined') {\n",
       "        require.undef(\"plotly\");\n",
       "        requirejs.config({\n",
       "            paths: {\n",
       "                'plotly': ['https://cdn.plot.ly/plotly-2.20.0.min']\n",
       "            }\n",
       "        });\n",
       "        require(['plotly'], function(Plotly) {\n",
       "            window._Plotly = Plotly;\n",
       "        });\n",
       "        }\n",
       "        </script>\n",
       "        "
      ]
     },
     "metadata": {},
     "output_type": "display_data"
    },
    {
     "name": "stdout",
     "output_type": "stream",
     "text": [
      "0         0.10000\n",
      "1         0.00000\n",
      "2         0.15625\n",
      "3         0.00000\n",
      "4         0.00000\n",
      "           ...   \n",
      "256437    0.00000\n",
      "256438   -0.18750\n",
      "256439    0.00000\n",
      "256440    0.20000\n",
      "256441    0.00000\n",
      "Name: polarity2, Length: 256442, dtype: float64\n",
      "0         0.078788\n",
      "1        -0.083333\n",
      "2        -0.083333\n",
      "3        -0.083333\n",
      "4        -0.083333\n",
      "            ...   \n",
      "256437    0.150000\n",
      "256438    0.150000\n",
      "256439    0.150000\n",
      "256440    0.150000\n",
      "256441    0.000000\n",
      "Name: polarity1, Length: 256442, dtype: float64\n"
     ]
    },
    {
     "data": {
      "image/png": "[encoded data removed]",
      "text/plain": [
       "<Figure size 640x480 with 4 Axes>"
      ]
     },
     "metadata": {},
     "output_type": "display_data"
    },
    {
     "data": {
      "image/png": "[encoded data removed]",
      "text/plain": [
       "<Figure size 640x480 with 4 Axes>"
      ]
     },
     "metadata": {},
     "output_type": "display_data"
    }
   ],
   "source": [
    "LSTM_Model, x1_train, x1_test, x2_train, x2_test, y_train, y_test = load_model()"
   ]
  },
  {
   "cell_type": "code",
   "execution_count": null,
   "metadata": {},
   "outputs": [
    {
     "name": "stdout",
     "output_type": "stream",
     "text": [
      "Epoch 1/20\n",
      "1023/1804 [================>.............] - ETA: 50:43 - loss: 0.6068 - accuracy: 0.7066"
     ]
    }
   ],
   "source": [
    "LSTM_Model.compile(optimizer='rmsprop',loss='categorical_crossentropy',metrics=['accuracy'])\n",
    "\n",
    "BATCH_SIZE = 128\n",
    "NUM_EPOCHS = 20\n",
    "\n",
    "history = LSTM_Model.fit(x = [x1_train, x2_train], y = y_train, batch_size = BATCH_SIZE, epochs = NUM_EPOCHS, validation_data = ([x1_test, x2_test], y_test), shuffle = True)\n",
    "\n",
    "def plot_accuracy_hists(x, y1, y2, xlabel, ylabel, label, title):\n",
    "    plt.plot(x, y1,'g',label='Training ' + label)\n",
    "    plt.plot(x, y2,'b',label='Valdiation ' + label)\n",
    "    plt.title(title)\n",
    "    plt.ylabel(ylabel)\n",
    "    plt.xlabel(xlabel)\n",
    "\n",
    "\n",
    "    plt.legend()\n",
    "    plt.show()\n",
    "    \n",
    "history_model_values = history.history\n",
    "cnt = history.history['accuracy']\n",
    "plot_accuracy_hists(range(1, len(cnt) + 1), history_model_values['loss'], history_model_values['val_loss'], 'NoOfEpochs', 'Loss', 'Training & Validation Data Loss', 'Loss')\n",
    "\n",
    "plot_accuracy_hists(range(1, len(cnt) + 1), history_model_values['accuracy'], history_model_values['val_accuracy'], 'NoOfEpochs', 'Accuracy', 'Training & Validation Data Accuracy', 'Accuracy')"
   ]
  },
  {
   "cell_type": "markdown",
   "metadata": {},
   "source": [
    "<H1>Model Evaluation on Test data"
   ]
  },
  {
   "cell_type": "code",
   "execution_count": 68,
   "metadata": {
    "colab": {
     "base_uri": "https://localhost:8080/",
     "height": 206
    },
    "id": "GAlAZmKdAKfJ",
    "outputId": "bd59dffb-3265-4b9b-9085-3eae200ed338"
   },
   "outputs": [
    {
     "data": {
      "text/html": [
       "<div>\n",
       "<style scoped>\n",
       "    .dataframe tbody tr th:only-of-type {\n",
       "        vertical-align: middle;\n",
       "    }\n",
       "\n",
       "    .dataframe tbody tr th {\n",
       "        vertical-align: top;\n",
       "    }\n",
       "\n",
       "    .dataframe thead th {\n",
       "        text-align: right;\n",
       "    }\n",
       "</style>\n",
       "<table border=\"1\" class=\"dataframe\">\n",
       "  <thead>\n",
       "    <tr style=\"text-align: right;\">\n",
       "      <th></th>\n",
       "      <th>id</th>\n",
       "      <th>tid1</th>\n",
       "      <th>tid2</th>\n",
       "      <th>title1_en</th>\n",
       "      <th>title2_en</th>\n",
       "    </tr>\n",
       "  </thead>\n",
       "  <tbody>\n",
       "    <tr>\n",
       "      <th>0</th>\n",
       "      <td>256442</td>\n",
       "      <td>100672</td>\n",
       "      <td>100673</td>\n",
       "      <td>The great coat brother Zhu Zhu Wen, in the man...</td>\n",
       "      <td>Lin xinsheng after the birth of \"hard milking,...</td>\n",
       "    </tr>\n",
       "    <tr>\n",
       "      <th>1</th>\n",
       "      <td>256443</td>\n",
       "      <td>162269</td>\n",
       "      <td>162270</td>\n",
       "      <td>NASA reveals facts about UFO wreckage found on...</td>\n",
       "      <td>The UFO found in Yuancun, Jiaocheng County, Sh...</td>\n",
       "    </tr>\n",
       "    <tr>\n",
       "      <th>2</th>\n",
       "      <td>256444</td>\n",
       "      <td>157826</td>\n",
       "      <td>157854</td>\n",
       "      <td>The hollow tomatoes are loaded with hormones.</td>\n",
       "      <td>Li chenfan bingbing home photos, netizen: this...</td>\n",
       "    </tr>\n",
       "    <tr>\n",
       "      <th>3</th>\n",
       "      <td>256445</td>\n",
       "      <td>109579</td>\n",
       "      <td>74076</td>\n",
       "      <td>Ange Pavilion Geoshui: How accurate is Matrimo...</td>\n",
       "      <td>Master one: the eight-character presumption of...</td>\n",
       "    </tr>\n",
       "    <tr>\n",
       "      <th>4</th>\n",
       "      <td>256446</td>\n",
       "      <td>15068</td>\n",
       "      <td>15085</td>\n",
       "      <td>A 50-year-old bus-bus blows up an 8-year-old c...</td>\n",
       "      <td>&lt; i &gt; Joe Johnson's disgruntled timing and ord...</td>\n",
       "    </tr>\n",
       "  </tbody>\n",
       "</table>\n",
       "</div>"
      ],
      "text/plain": [
       "       id    tid1    tid2                                          title1_en  \\\n",
       "0  256442  100672  100673  The great coat brother Zhu Zhu Wen, in the man...   \n",
       "1  256443  162269  162270  NASA reveals facts about UFO wreckage found on...   \n",
       "2  256444  157826  157854      The hollow tomatoes are loaded with hormones.   \n",
       "3  256445  109579   74076  Ange Pavilion Geoshui: How accurate is Matrimo...   \n",
       "4  256446   15068   15085  A 50-year-old bus-bus blows up an 8-year-old c...   \n",
       "\n",
       "                                           title2_en  \n",
       "0  Lin xinsheng after the birth of \"hard milking,...  \n",
       "1  The UFO found in Yuancun, Jiaocheng County, Sh...  \n",
       "2  Li chenfan bingbing home photos, netizen: this...  \n",
       "3  Master one: the eight-character presumption of...  \n",
       "4  < i > Joe Johnson's disgruntled timing and ord...  "
      ]
     },
     "execution_count": 68,
     "metadata": {},
     "output_type": "execute_result"
    }
   ],
   "source": [
    "test_data = pd.read_csv(\"test.csv\")\n",
    "# test_data.head(5)\n",
    "\n",
    "x_test = test_data[['title1_en', 'title2_en']]\n",
    "# x_test.head()\n",
    "\n",
    "x_test['title1_tokenized'] = test_data.loc[:,'title1_en'].apply(do_tokenization)\n",
    "x_test['title2_tokenized'] = test_data.loc[:,'title2_en'].apply(do_tokenization)\n",
    "\n",
    "title1_temp = tokenizer.texts_to_sequences(x_test['title1_tokenized'])\n",
    "x1_test = pad_sequences(title1_temp, maxlen=MAX_SEQUENCE_LENGTH)\n",
    "\n",
    "title2_temp = tokenizer.texts_to_sequences(x_test['title2_tokenized'])\n",
    "x2_test = pad_sequences(title2_temp, maxlen=MAX_SEQUENCE_LENGTH)\n",
    "\n",
    "# len(x2_test)\n",
    "\n",
    "data_predictions = model.predict([x1_test, x2_test])\n",
    "# data_predictions[:5]\n",
    "\n",
    "index_to_label = { v : k for k , v in label_to_index . items ()}        \n",
    "\n",
    "test_data['label'] = [ index_to_label [ idx ] for idx in np.argmax (data_predictions, axis = 1 )]\n",
    "\n",
    "submission_data = test_data.loc[:, ['id', 'label']]\n",
    "submission_data.columns = ['id', 'label']\n",
    "submission_data.to_csv('submission_69.csv', index=False)"
   ]
  },
  {
   "cell_type": "code",
   "execution_count": null,
   "metadata": {
    "id": "z68Oqeb4CFi8"
   },
   "outputs": [],
   "source": []
  }
 ],
 "metadata": {
  "accelerator": "GPU",
  "colab": {
   "name": "osna_project2_Lstm.ipynb",
   "provenance": []
  },
  "kernelspec": {
   "display_name": "Python 3 (ipykernel)",
   "language": "python",
   "name": "python3"
  },
  "language_info": {
   "codemirror_mode": {
    "name": "ipython",
    "version": 3
   },
   "file_extension": ".py",
   "mimetype": "text/x-python",
   "name": "python",
   "nbconvert_exporter": "python",
   "pygments_lexer": "ipython3",
   "version": "3.10.7"
  }
 },
 "nbformat": 4,
 "nbformat_minor": 1
}
